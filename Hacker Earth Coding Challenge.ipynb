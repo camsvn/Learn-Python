{
 "cells": [
  {
   "cell_type": "markdown",
   "metadata": {},
   "source": [
    "# 1) Little Shino and Common factors\n",
    "Little Shino loves maths. Today her teacher gave her two intergers.  Shino is now wondering how many integers can divide both the numbers. She is busy with her assignments. Help her to solve the problem. \n",
    "\n",
    "## Output Format:\n",
    "Print the **number of common factors** of *a* and *b*.\n",
    "\n",
    "## Input Constraints:\n",
    "$1 \\le a,b \\le 10^{12}$\n",
    "\n",
    "## Sample:\n",
    "> Input : $10$  $15$<br><br>\n",
    "> Output : $2$\n",
    "\n",
    "## Explanation:\n",
    "The common factors of $10$ and $5$ are *1* and *5* thus the output *2*"
   ]
  },
  {
   "cell_type": "code",
   "execution_count": null,
   "metadata": {},
   "outputs": [],
   "source": [
    "import time\n",
    "from functools import reduce\n",
    "\n",
    "def gcd(a, b):    \n",
    "    while b:\n",
    "        a, b = b, a%b\n",
    "    return a\n",
    "'''\n",
    "def countf(n):\n",
    "    c=0\n",
    "    factors=list()\n",
    "    for i in range(1,n):        \n",
    "        if i*i<=n:\n",
    "            if n%i==0:\n",
    "                factors.append(i)\n",
    "                if i*i == n:\n",
    "                    c+=1\n",
    "                else:\n",
    "                    c+=2\n",
    "                    factors.append(int(n/i))\n",
    "    if c==0:\n",
    "        c=1\n",
    "        factors.append(1)\n",
    "    print(\"Factors\",factors)\n",
    "    return c\n",
    "'''\n",
    "def factors(n):    \n",
    "    return set(reduce(list.__add__,([i, n//i] for i in range(1, int(n**0.5) + 1) if n % i == 0))) \n",
    "\n",
    "flist=[]\n",
    "a=int(input(\"Input your first number: \"))\n",
    "flist.append(a)\n",
    "b=int(input(\"Input your second number: \"))\n",
    "flist.append(b)\n",
    "\n",
    "ts=time.time()\n",
    "gf=gcd(flist[0],flist[1])\n",
    "print(len(factors(gf)))\n",
    "print(time.time()-ts)"
   ]
  },
  {
   "cell_type": "markdown",
   "metadata": {},
   "source": [
    "# 2) Fredo and Array Update\n",
    "Fredo is assigned a new task today. He is given an *array A* containing *N integers*. His task is to *update* all elements of array to *some minimum value x* , that is,**$A[i] = x; 1 \\le i \\le N$** such that sum of this new array is strictly greater than the sum of the initial array. Note that x should be as minimum as possible such that sum of the new array is greater than the sum of the initial array.\n",
    "\n",
    "## Output Format:\n",
    "The only line of output consists of the value of x.\n",
    "\n",
    "## Input Constraints:\n",
    "$1 \\le i \\le 10^5$ <br>\n",
    "$1 \\le A[i] \\le 1000$\n",
    "\n",
    "## Sample:\n",
    "> Input : $1$  $2$  $3$  $4$  $5$ <br><br>\n",
    "> Output : $4$\n",
    "\n",
    "## Explanation:\n",
    "Initial sum of array $=1+2+3+4+5=15$ <br>\n",
    "When we update all elements to *4*, sum of array $=4+4+4+4+4=20$ which is greater than $15$.\n",
    "Note that if we had updated the array elements to *3*,  which is not greater than $sum=15$. So, *4* is the minimum value to which array elements need to be updated."
   ]
  },
  {
   "cell_type": "code",
   "execution_count": null,
   "metadata": {},
   "outputs": [],
   "source": [
    "n=int(input(\"Number of Elements: \"))\n",
    "elements=input(\"Enter Array Elements \\'separated by space\\':\\n\")\n",
    "array=elements.split(\" \")\n",
    "if n is not len(array):\n",
    "    print(\"Given \\'array count\\' or \\'format\\' doesn't match. Provide Valid data\")\n",
    "else:\n",
    "    sum=0\n",
    "    for i in array:\n",
    "        sum+=int(i)\n",
    "    avg=int(sum/n)\n",
    "    print(avg+1)"
   ]
  },
  {
   "cell_type": "code",
   "execution_count": null,
   "metadata": {},
   "outputs": [],
   "source": []
  },
  {
   "cell_type": "code",
   "execution_count": null,
   "metadata": {},
   "outputs": [],
   "source": []
  },
  {
   "cell_type": "code",
   "execution_count": null,
   "metadata": {},
   "outputs": [],
   "source": []
  }
 ],
 "metadata": {
  "kernelspec": {
   "display_name": "Python 3",
   "language": "python",
   "name": "python3"
  },
  "language_info": {
   "codemirror_mode": {
    "name": "ipython",
    "version": 3
   },
   "file_extension": ".py",
   "mimetype": "text/x-python",
   "name": "python",
   "nbconvert_exporter": "python",
   "pygments_lexer": "ipython3",
   "version": "3.7.3"
  }
 },
 "nbformat": 4,
 "nbformat_minor": 2
}
